{
 "cells": [
  {
   "cell_type": "markdown",
   "metadata": {},
   "source": [
    "# PCA "
   ]
  },
  {
   "cell_type": "markdown",
   "metadata": {},
   "source": [
    "PCA is a tool to decrease the dimension of data by using eigenvectors and eigenvalues. As such, as the name hints, PCA finds the principal components of data. <br>\n",
    "Finding the directions where there is the most variance, the most spread. We want these to be orthogonal to each other.<br>\n",
    "This is where we use the eigenvectors and their values as these describe the mentioned direction. We can use them to create to axis for our problem. If there is a eigenvector with a small value close to zero ( or more depending on the data) for one feature then we can lower the dimension of the problem by ignoring this feature.<br>\n",
    "Or turning the argument around we search for eigenvectors with large values and take the corresponding features. <br>\n",
    "We want to normalize data before using PCA.\n",
    "- Calculate mean of features\n",
    "- Calculate the covariance matrix X of data points.\n",
    "- Calculate eigen vectors and corresponding eigen values.\n",
    "- Sort the eigen vectors according to their eigen values in decreasing order.\n",
    "- Choose first k eigen vectors and that will be the new k dimensions.\n",
    "- Transform the original n dimensional data points into k dimensions."
   ]
  },
  {
   "cell_type": "markdown",
   "metadata": {},
   "source": [
    "When to use:\n",
    "- Do you want to reduce the number of variables, but aren’t able to identify variables to completely remove from consideration?\n",
    "- Do you want to ensure your variables are independent of one another?\n",
    "- Are you comfortable making your independent variables less interpretable?"
   ]
  },
  {
   "cell_type": "markdown",
   "metadata": {},
   "source": [
    "https://georgemdallas.wordpress.com/2013/10/30/principal-component-analysis-4-dummies-eigenvectors-eigenvalues-and-dimension-reduction/\n",
    "https://medium.com/@aptrishu/understanding-principle-component-analysis-e32be0253ef0\n",
    "https://towardsdatascience.com/the-mathematics-behind-principal-component-analysis-fff2d7f4b643\n",
    "https://medium.com/@raghavan99o/principal-component-analysis-pca-explained-and-implemented-eeab7cb73b72"
   ]
  },
  {
   "cell_type": "markdown",
   "metadata": {},
   "source": [
    "random data with 3 dimensions with 40 samples . We will have two class with 20 samples per class."
   ]
  },
  {
   "cell_type": "code",
   "execution_count": 1,
   "metadata": {},
   "outputs": [],
   "source": [
    "import numpy as np\n",
    "np.random.seed(1)\n",
    "\n",
    "vec1 = np.array([0, 0, 0])\n",
    "mat1 = np.array([[1, 0, 0], [0, 1, 0], [0, 0, 1]])\n",
    "sample_for_class1 = np.random.multivariate_normal(vec1, mat1, 20).T\n",
    "assert sample_for_class1.shape == (3, 20), \"The dimension of the sample_for_class1 matrix is not 3x20\"\n",
    "\n",
    "vec2 = np.array([1, 1, 1])\n",
    "mat2 = np.array([[1, 0, 0], [0, 1, 0], [0, 0, 1]])\n",
    "sample_for_class2 = np.random.multivariate_normal(vec2, mat2, 20).T\n",
    "assert sample_for_class2.shape == (3, 20), \"The dimension of the sample_for_class2 matrix is not 3x20\"\n",
    "\n",
    "all_data = np.concatenate((sample_for_class1, sample_for_class2), axis=1)\n",
    "assert all_data.shape == (3, 40), \"The dimension of the all_data matrix is not 3x20\""
   ]
  },
  {
   "cell_type": "code",
   "execution_count": 3,
   "metadata": {},
   "outputs": [
    {
     "name": "stdout",
     "output_type": "stream",
     "text": [
      "The Mean Vector:\n",
      " [[0.41667492]\n",
      " [0.69848315]\n",
      " [0.49242335]]\n",
      "The Scatter Matrix is :\n",
      " [[38.4878051  10.50787213 11.13746016]\n",
      " [10.50787213 36.23651274 11.96598642]\n",
      " [11.13746016 11.96598642 49.73596619]]\n"
     ]
    }
   ],
   "source": [
    "mean_dim1 = np.mean(all_data[0, :])\n",
    "mean_dim2 = np.mean(all_data[1, :])\n",
    "mean_dim3 = np.mean(all_data[2, :])\n",
    "\n",
    "mean_vector = np.array([[mean_dim1], [mean_dim2], [mean_dim3]])\n",
    "\n",
    "print('The Mean Vector:\\n', mean_vector)\n",
    "\n",
    "scatter_matrix = np.zeros((3,3))\n",
    "for i in range(all_data.shape[1]):\n",
    "    scatter_matrix += (all_data[:, i].reshape(3, 1) - mean_vector).dot((all_data[:, i].reshape(3, 1) - mean_vector).T)\n",
    "print('The Scatter Matrix is :\\n', scatter_matrix)\n",
    "\n",
    "# covariance matrix is a scaled version of scatter matrix "
   ]
  },
  {
   "cell_type": "code",
   "execution_count": 14,
   "metadata": {},
   "outputs": [],
   "source": [
    "eig_val, eig_vec = np.linalg.eig(scatter_matrix) #eigenvector and values"
   ]
  },
  {
   "cell_type": "code",
   "execution_count": 15,
   "metadata": {},
   "outputs": [],
   "source": [
    "for ev in eig_vec:\n",
    "    np.testing.assert_array_almost_equal(1.0, np.linalg.norm(ev))"
   ]
  },
  {
   "cell_type": "code",
   "execution_count": 16,
   "metadata": {},
   "outputs": [
    {
     "data": {
      "text/plain": [
       "array([65.16936779, 32.69471296, 26.59620328])"
      ]
     },
     "execution_count": 16,
     "metadata": {},
     "output_type": "execute_result"
    }
   ],
   "source": [
    "eig_val"
   ]
  },
  {
   "cell_type": "markdown",
   "metadata": {},
   "source": [
    "Cov eigenvectors and values for reference"
   ]
  },
  {
   "cell_type": "code",
   "execution_count": 13,
   "metadata": {},
   "outputs": [],
   "source": [
    "covmatrix = np.cov(all_data) # covariance matrix"
   ]
  },
  {
   "cell_type": "code",
   "execution_count": 17,
   "metadata": {},
   "outputs": [],
   "source": [
    "eig_val_cov, eig_vec_cov = np.linalg.eig(covmatrix) #eigenvector and values"
   ]
  },
  {
   "cell_type": "code",
   "execution_count": 23,
   "metadata": {},
   "outputs": [
    {
     "data": {
      "text/plain": [
       "array([65.16936779, 32.69471296, 26.59620328])"
      ]
     },
     "execution_count": 23,
     "metadata": {},
     "output_type": "execute_result"
    }
   ],
   "source": [
    "eig_val_cov*39 # to show that the scattermatrix is the unscaled version"
   ]
  },
  {
   "cell_type": "code",
   "execution_count": null,
   "metadata": {},
   "outputs": [],
   "source": []
  },
  {
   "cell_type": "code",
   "execution_count": null,
   "metadata": {},
   "outputs": [],
   "source": []
  },
  {
   "cell_type": "code",
   "execution_count": 25,
   "metadata": {
    "scrolled": true
   },
   "outputs": [
    {
     "name": "stdout",
     "output_type": "stream",
     "text": [
      "65.16936779078195\n",
      "32.69471296321796\n",
      "26.596203282097097\n"
     ]
    }
   ],
   "source": [
    "# We Make a list of tuple containing (eigenvalue, eigenvector)\n",
    "eig_pairs = [(np.abs(eig_val[i]), eig_vec[:,i]) for i in range(len(eig_val))]\n",
    "\n",
    "# We then Sort list of tuples by the eigenvalue\n",
    "eig_pairs.sort(key=lambda x: x[0], reverse=True)\n",
    "\n",
    "# verify that the list is correctly sorted by decreasing eigenvalues\n",
    "for i in eig_pairs:\n",
    "    print(i[0])"
   ]
  },
  {
   "cell_type": "markdown",
   "metadata": {},
   "source": [
    "Matrix of the eigenvectors of the first 2 eigenvalues"
   ]
  },
  {
   "cell_type": "code",
   "execution_count": 26,
   "metadata": {},
   "outputs": [
    {
     "name": "stdout",
     "output_type": "stream",
     "text": [
      "Matrix W:\n",
      " [[-0.49210223 -0.64670286]\n",
      " [-0.47927902 -0.35756937]\n",
      " [-0.72672348  0.67373552]]\n"
     ]
    }
   ],
   "source": [
    "matrix_w = np.hstack((eig_pairs[0][1].reshape(3,1), eig_pairs[1][1].reshape(3,1)))\n",
    "print('Matrix W:\\n', matrix_w)"
   ]
  },
  {
   "cell_type": "markdown",
   "metadata": {},
   "source": [
    "Transform data set with the above matrix"
   ]
  },
  {
   "cell_type": "code",
   "execution_count": 28,
   "metadata": {},
   "outputs": [],
   "source": [
    "transformed = matrix_w.T.dot(all_data)\n",
    "assert transformed.shape == (2,40), \"The matrix is not 2x40 dimensional.\""
   ]
  },
  {
   "cell_type": "code",
   "execution_count": 30,
   "metadata": {},
   "outputs": [
    {
     "data": {
      "text/plain": [
       "array([[-0.12230714,  1.78582073, -0.72564846,  0.91911067, -0.48120545,\n",
       "         1.26186049,  0.49974121, -1.36060904, -0.02630959,  0.20346559,\n",
       "         1.02990798,  0.74684543, -0.76873682,  0.37184198, -0.48040292,\n",
       "        -1.30433953, -0.57308381,  0.9748035 , -0.78806782, -1.23832629,\n",
       "        -2.30009539, -1.73062935, -4.57170736,  0.04785487, -2.42616804,\n",
       "        -1.15792646, -2.01497976, -1.98672036, -1.36534078, -2.76311357,\n",
       "        -2.1041081 , -1.64296088, -1.09921946, -2.71718701, -1.38545546,\n",
       "        -1.44331476, -0.58485289, -1.63411201, -1.21353834, -1.73760916],\n",
       "       [-1.18757151, -1.16617976, -0.64124251, -1.74952646,  1.10969495,\n",
       "         0.18151348, -0.97722286, -0.72412904, -0.42090149,  1.05827266,\n",
       "         0.12619324,  0.77808138,  1.75701561, -1.00931473, -0.08774954,\n",
       "         1.75869787, -0.09616466,  0.4009659 ,  0.49058694, -0.10791262,\n",
       "         0.05492635, -0.3633537 , -0.13330484,  0.74907576, -0.53466984,\n",
       "         1.6445517 , -0.90160187,  0.00885182, -0.95318056,  0.14270558,\n",
       "        -1.4249294 , -0.01678979, -0.54147105,  0.20291779, -1.54140242,\n",
       "        -1.3474191 , -1.09515232, -1.41599875, -0.11407398,  0.58889408]])"
      ]
     },
     "execution_count": 30,
     "metadata": {},
     "output_type": "execute_result"
    }
   ],
   "source": [
    "transformed"
   ]
  },
  {
   "cell_type": "code",
   "execution_count": null,
   "metadata": {},
   "outputs": [],
   "source": []
  }
 ],
 "metadata": {
  "kernelspec": {
   "display_name": "Python [conda env:nf] *",
   "language": "python",
   "name": "conda-env-nf-py"
  },
  "language_info": {
   "codemirror_mode": {
    "name": "ipython",
    "version": 3
   },
   "file_extension": ".py",
   "mimetype": "text/x-python",
   "name": "python",
   "nbconvert_exporter": "python",
   "pygments_lexer": "ipython3",
   "version": "3.6.6"
  }
 },
 "nbformat": 4,
 "nbformat_minor": 2
}
